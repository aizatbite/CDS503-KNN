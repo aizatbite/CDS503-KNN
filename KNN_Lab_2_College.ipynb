{
  "nbformat": 4,
  "nbformat_minor": 0,
  "metadata": {
    "colab": {
      "provenance": [],
      "mount_file_id": "1jptWbFFA15YpuqitJwa99GjpA9sz7ncl",
      "authorship_tag": "ABX9TyOU21U+mHhPmugg6lw5gbzL",
      "include_colab_link": true
    },
    "kernelspec": {
      "name": "python3",
      "display_name": "Python 3"
    },
    "language_info": {
      "name": "python"
    }
  },
  "cells": [
    {
      "cell_type": "markdown",
      "metadata": {
        "id": "view-in-github",
        "colab_type": "text"
      },
      "source": [
        "<a href=\"https://colab.research.google.com/github/aizatbite/CDS503-KNN/blob/main/KNN_Lab_2_College.ipynb\" target=\"_parent\"><img src=\"https://colab.research.google.com/assets/colab-badge.svg\" alt=\"Open In Colab\"/></a>"
      ]
    },
    {
      "cell_type": "markdown",
      "metadata": {
        "id": "QjZk4pY1DlcE"
      },
      "source": [
        "## **KNN**"
      ]
    },
    {
      "cell_type": "markdown",
      "metadata": {
        "id": "AC0dwy5xzpAy"
      },
      "source": [
        "# Data"
      ]
    },
    {
      "cell_type": "code",
      "metadata": {
        "id": "jXxvHilAle5q"
      },
      "source": [
        "import pandas as pd\n",
        "import seaborn as sns\n",
        "import matplotlib.pyplot as plt"
      ],
      "execution_count": null,
      "outputs": []
    },
    {
      "cell_type": "code",
      "metadata": {
        "colab": {
          "base_uri": "https://localhost:8080/",
          "height": 202
        },
        "id": "qpmrMLbBnva0",
        "outputId": "a69c6803-0e0d-4562-9e61-986d38476c8b"
      },
      "source": [
        "cp = pd.read_csv('/content/drive/MyDrive/college_plans.csv')\n",
        "cp.head()"
      ],
      "execution_count": null,
      "outputs": [
        {
          "output_type": "execute_result",
          "data": {
            "text/html": [
              "<div>\n",
              "<style scoped>\n",
              "    .dataframe tbody tr th:only-of-type {\n",
              "        vertical-align: middle;\n",
              "    }\n",
              "\n",
              "    .dataframe tbody tr th {\n",
              "        vertical-align: top;\n",
              "    }\n",
              "\n",
              "    .dataframe thead th {\n",
              "        text-align: right;\n",
              "    }\n",
              "</style>\n",
              "<table border=\"1\" class=\"dataframe\">\n",
              "  <thead>\n",
              "    <tr style=\"text-align: right;\">\n",
              "      <th></th>\n",
              "      <th>StudentID</th>\n",
              "      <th>Gender</th>\n",
              "      <th>ParentIncome</th>\n",
              "      <th>IQ</th>\n",
              "      <th>ParentEncouragement</th>\n",
              "      <th>CollegePlans</th>\n",
              "    </tr>\n",
              "  </thead>\n",
              "  <tbody>\n",
              "    <tr>\n",
              "      <th>0</th>\n",
              "      <td>60</td>\n",
              "      <td>Male</td>\n",
              "      <td>31770</td>\n",
              "      <td>90</td>\n",
              "      <td>Encouraged</td>\n",
              "      <td>Does not plan to attend</td>\n",
              "    </tr>\n",
              "    <tr>\n",
              "      <th>1</th>\n",
              "      <td>61</td>\n",
              "      <td>Male</td>\n",
              "      <td>79310</td>\n",
              "      <td>110</td>\n",
              "      <td>Encouraged</td>\n",
              "      <td>Plans to attend</td>\n",
              "    </tr>\n",
              "    <tr>\n",
              "      <th>2</th>\n",
              "      <td>62</td>\n",
              "      <td>Female</td>\n",
              "      <td>36600</td>\n",
              "      <td>109</td>\n",
              "      <td>Not Encouraged</td>\n",
              "      <td>Does not plan to attend</td>\n",
              "    </tr>\n",
              "    <tr>\n",
              "      <th>3</th>\n",
              "      <td>63</td>\n",
              "      <td>Female</td>\n",
              "      <td>66770</td>\n",
              "      <td>114</td>\n",
              "      <td>Encouraged</td>\n",
              "      <td>Plans to attend</td>\n",
              "    </tr>\n",
              "    <tr>\n",
              "      <th>4</th>\n",
              "      <td>64</td>\n",
              "      <td>Male</td>\n",
              "      <td>59400</td>\n",
              "      <td>103</td>\n",
              "      <td>Encouraged</td>\n",
              "      <td>Plans to attend</td>\n",
              "    </tr>\n",
              "  </tbody>\n",
              "</table>\n",
              "</div>"
            ],
            "text/plain": [
              "   StudentID  Gender  ...  ParentEncouragement             CollegePlans\n",
              "0         60    Male  ...           Encouraged  Does not plan to attend\n",
              "1         61    Male  ...           Encouraged          Plans to attend\n",
              "2         62  Female  ...       Not Encouraged  Does not plan to attend\n",
              "3         63  Female  ...           Encouraged          Plans to attend\n",
              "4         64    Male  ...           Encouraged          Plans to attend\n",
              "\n",
              "[5 rows x 6 columns]"
            ]
          },
          "metadata": {
            "tags": []
          },
          "execution_count": 92
        }
      ]
    },
    {
      "cell_type": "code",
      "metadata": {
        "colab": {
          "base_uri": "https://localhost:8080/",
          "height": 415
        },
        "id": "bmp-kyFgodZP",
        "outputId": "8256cc57-0e06-462e-ac48-25f22d36f72b"
      },
      "source": [
        "#rename the attributes\n",
        "cp.columns = ['id','sex','parinc','iq','parenc','plan']\n",
        "cp.columns\n",
        "cp"
      ],
      "execution_count": null,
      "outputs": [
        {
          "output_type": "execute_result",
          "data": {
            "text/html": [
              "<div>\n",
              "<style scoped>\n",
              "    .dataframe tbody tr th:only-of-type {\n",
              "        vertical-align: middle;\n",
              "    }\n",
              "\n",
              "    .dataframe tbody tr th {\n",
              "        vertical-align: top;\n",
              "    }\n",
              "\n",
              "    .dataframe thead th {\n",
              "        text-align: right;\n",
              "    }\n",
              "</style>\n",
              "<table border=\"1\" class=\"dataframe\">\n",
              "  <thead>\n",
              "    <tr style=\"text-align: right;\">\n",
              "      <th></th>\n",
              "      <th>id</th>\n",
              "      <th>sex</th>\n",
              "      <th>parinc</th>\n",
              "      <th>iq</th>\n",
              "      <th>parenc</th>\n",
              "      <th>plan</th>\n",
              "    </tr>\n",
              "  </thead>\n",
              "  <tbody>\n",
              "    <tr>\n",
              "      <th>0</th>\n",
              "      <td>60</td>\n",
              "      <td>Male</td>\n",
              "      <td>31770</td>\n",
              "      <td>90</td>\n",
              "      <td>Encouraged</td>\n",
              "      <td>Does not plan to attend</td>\n",
              "    </tr>\n",
              "    <tr>\n",
              "      <th>1</th>\n",
              "      <td>61</td>\n",
              "      <td>Male</td>\n",
              "      <td>79310</td>\n",
              "      <td>110</td>\n",
              "      <td>Encouraged</td>\n",
              "      <td>Plans to attend</td>\n",
              "    </tr>\n",
              "    <tr>\n",
              "      <th>2</th>\n",
              "      <td>62</td>\n",
              "      <td>Female</td>\n",
              "      <td>36600</td>\n",
              "      <td>109</td>\n",
              "      <td>Not Encouraged</td>\n",
              "      <td>Does not plan to attend</td>\n",
              "    </tr>\n",
              "    <tr>\n",
              "      <th>3</th>\n",
              "      <td>63</td>\n",
              "      <td>Female</td>\n",
              "      <td>66770</td>\n",
              "      <td>114</td>\n",
              "      <td>Encouraged</td>\n",
              "      <td>Plans to attend</td>\n",
              "    </tr>\n",
              "    <tr>\n",
              "      <th>4</th>\n",
              "      <td>64</td>\n",
              "      <td>Male</td>\n",
              "      <td>59400</td>\n",
              "      <td>103</td>\n",
              "      <td>Encouraged</td>\n",
              "      <td>Plans to attend</td>\n",
              "    </tr>\n",
              "    <tr>\n",
              "      <th>...</th>\n",
              "      <td>...</td>\n",
              "      <td>...</td>\n",
              "      <td>...</td>\n",
              "      <td>...</td>\n",
              "      <td>...</td>\n",
              "      <td>...</td>\n",
              "    </tr>\n",
              "    <tr>\n",
              "      <th>16378</th>\n",
              "      <td>7379</td>\n",
              "      <td>Male</td>\n",
              "      <td>48620</td>\n",
              "      <td>100</td>\n",
              "      <td>Encouraged</td>\n",
              "      <td>Plans to attend</td>\n",
              "    </tr>\n",
              "    <tr>\n",
              "      <th>16379</th>\n",
              "      <td>7380</td>\n",
              "      <td>Male</td>\n",
              "      <td>79530</td>\n",
              "      <td>103</td>\n",
              "      <td>Encouraged</td>\n",
              "      <td>Plans to attend</td>\n",
              "    </tr>\n",
              "    <tr>\n",
              "      <th>16380</th>\n",
              "      <td>7381</td>\n",
              "      <td>Male</td>\n",
              "      <td>6900</td>\n",
              "      <td>68</td>\n",
              "      <td>Not Encouraged</td>\n",
              "      <td>Does not plan to attend</td>\n",
              "    </tr>\n",
              "    <tr>\n",
              "      <th>16381</th>\n",
              "      <td>7382</td>\n",
              "      <td>Female</td>\n",
              "      <td>41400</td>\n",
              "      <td>108</td>\n",
              "      <td>Encouraged</td>\n",
              "      <td>Does not plan to attend</td>\n",
              "    </tr>\n",
              "    <tr>\n",
              "      <th>16382</th>\n",
              "      <td>7383</td>\n",
              "      <td>Female</td>\n",
              "      <td>17800</td>\n",
              "      <td>99</td>\n",
              "      <td>Not Encouraged</td>\n",
              "      <td>Does not plan to attend</td>\n",
              "    </tr>\n",
              "  </tbody>\n",
              "</table>\n",
              "<p>16383 rows × 6 columns</p>\n",
              "</div>"
            ],
            "text/plain": [
              "         id     sex  parinc   iq          parenc                     plan\n",
              "0        60    Male   31770   90      Encouraged  Does not plan to attend\n",
              "1        61    Male   79310  110      Encouraged          Plans to attend\n",
              "2        62  Female   36600  109  Not Encouraged  Does not plan to attend\n",
              "3        63  Female   66770  114      Encouraged          Plans to attend\n",
              "4        64    Male   59400  103      Encouraged          Plans to attend\n",
              "...     ...     ...     ...  ...             ...                      ...\n",
              "16378  7379    Male   48620  100      Encouraged          Plans to attend\n",
              "16379  7380    Male   79530  103      Encouraged          Plans to attend\n",
              "16380  7381    Male    6900   68  Not Encouraged  Does not plan to attend\n",
              "16381  7382  Female   41400  108      Encouraged  Does not plan to attend\n",
              "16382  7383  Female   17800   99  Not Encouraged  Does not plan to attend\n",
              "\n",
              "[16383 rows x 6 columns]"
            ]
          },
          "metadata": {
            "tags": []
          },
          "execution_count": 93
        }
      ]
    },
    {
      "cell_type": "code",
      "metadata": {
        "colab": {
          "base_uri": "https://localhost:8080/",
          "height": 202
        },
        "id": "vzmCuaZ-psAY",
        "outputId": "6151205b-7fb7-4aa0-ec20-b6a0502fa605"
      },
      "source": [
        "#dropping identity attributes\n",
        "#axis = 1 equal to drop a column\n",
        "cp = cp.drop('id', axis = 1)\n",
        "cp.head()"
      ],
      "execution_count": null,
      "outputs": [
        {
          "output_type": "execute_result",
          "data": {
            "text/html": [
              "<div>\n",
              "<style scoped>\n",
              "    .dataframe tbody tr th:only-of-type {\n",
              "        vertical-align: middle;\n",
              "    }\n",
              "\n",
              "    .dataframe tbody tr th {\n",
              "        vertical-align: top;\n",
              "    }\n",
              "\n",
              "    .dataframe thead th {\n",
              "        text-align: right;\n",
              "    }\n",
              "</style>\n",
              "<table border=\"1\" class=\"dataframe\">\n",
              "  <thead>\n",
              "    <tr style=\"text-align: right;\">\n",
              "      <th></th>\n",
              "      <th>sex</th>\n",
              "      <th>parinc</th>\n",
              "      <th>iq</th>\n",
              "      <th>parenc</th>\n",
              "      <th>plan</th>\n",
              "    </tr>\n",
              "  </thead>\n",
              "  <tbody>\n",
              "    <tr>\n",
              "      <th>0</th>\n",
              "      <td>Male</td>\n",
              "      <td>31770</td>\n",
              "      <td>90</td>\n",
              "      <td>Encouraged</td>\n",
              "      <td>Does not plan to attend</td>\n",
              "    </tr>\n",
              "    <tr>\n",
              "      <th>1</th>\n",
              "      <td>Male</td>\n",
              "      <td>79310</td>\n",
              "      <td>110</td>\n",
              "      <td>Encouraged</td>\n",
              "      <td>Plans to attend</td>\n",
              "    </tr>\n",
              "    <tr>\n",
              "      <th>2</th>\n",
              "      <td>Female</td>\n",
              "      <td>36600</td>\n",
              "      <td>109</td>\n",
              "      <td>Not Encouraged</td>\n",
              "      <td>Does not plan to attend</td>\n",
              "    </tr>\n",
              "    <tr>\n",
              "      <th>3</th>\n",
              "      <td>Female</td>\n",
              "      <td>66770</td>\n",
              "      <td>114</td>\n",
              "      <td>Encouraged</td>\n",
              "      <td>Plans to attend</td>\n",
              "    </tr>\n",
              "    <tr>\n",
              "      <th>4</th>\n",
              "      <td>Male</td>\n",
              "      <td>59400</td>\n",
              "      <td>103</td>\n",
              "      <td>Encouraged</td>\n",
              "      <td>Plans to attend</td>\n",
              "    </tr>\n",
              "  </tbody>\n",
              "</table>\n",
              "</div>"
            ],
            "text/plain": [
              "      sex  parinc   iq          parenc                     plan\n",
              "0    Male   31770   90      Encouraged  Does not plan to attend\n",
              "1    Male   79310  110      Encouraged          Plans to attend\n",
              "2  Female   36600  109  Not Encouraged  Does not plan to attend\n",
              "3  Female   66770  114      Encouraged          Plans to attend\n",
              "4    Male   59400  103      Encouraged          Plans to attend"
            ]
          },
          "metadata": {
            "tags": []
          },
          "execution_count": 57
        }
      ]
    },
    {
      "cell_type": "code",
      "metadata": {
        "colab": {
          "base_uri": "https://localhost:8080/"
        },
        "id": "hOXHhTJA4twN",
        "outputId": "4caba29e-14b9-4aa8-dfef-a676051ad336"
      },
      "source": [
        "#untuk tengok null values\n",
        "cp.isna().sum()"
      ],
      "execution_count": null,
      "outputs": [
        {
          "output_type": "execute_result",
          "data": {
            "text/plain": [
              "id        0\n",
              "sex       0\n",
              "parinc    0\n",
              "iq        0\n",
              "parenc    0\n",
              "plan      0\n",
              "dtype: int64"
            ]
          },
          "metadata": {
            "tags": []
          },
          "execution_count": 94
        }
      ]
    },
    {
      "cell_type": "code",
      "metadata": {
        "colab": {
          "base_uri": "https://localhost:8080/"
        },
        "id": "qGh37d4tqWwU",
        "outputId": "584a8449-f047-4b63-cd5b-4ddf1e2fdae9"
      },
      "source": [
        "cp.dtypes"
      ],
      "execution_count": null,
      "outputs": [
        {
          "output_type": "execute_result",
          "data": {
            "text/plain": [
              "sex       object\n",
              "parinc     int64\n",
              "iq         int64\n",
              "parenc    object\n",
              "plan      object\n",
              "dtype: object"
            ]
          },
          "metadata": {
            "tags": []
          },
          "execution_count": 58
        }
      ]
    },
    {
      "cell_type": "code",
      "metadata": {
        "colab": {
          "base_uri": "https://localhost:8080/",
          "height": 424
        },
        "id": "MjO9MnbI_ny_",
        "outputId": "aac17877-dba4-4191-af7f-6cdaff56655b"
      },
      "source": [
        "#size of graph (width,height)\n",
        "plt.figure(figsize = (10,5))\n",
        "\n",
        "#plt.subplot(number of row, number of column, plot number)\n",
        "plt.subplot(1,2,1)\n",
        "\n",
        "#sns.countplot('selected features', hue = 'target column @ class label', data = variable simpan dataframe)\n",
        "sns.countplot('sex', hue = 'plan', data = cp)"
      ],
      "execution_count": null,
      "outputs": [
        {
          "output_type": "stream",
          "text": [
            "/usr/local/lib/python3.7/dist-packages/seaborn/_decorators.py:43: FutureWarning: Pass the following variable as a keyword arg: x. From version 0.12, the only valid positional argument will be `data`, and passing other arguments without an explicit keyword will result in an error or misinterpretation.\n",
            "  FutureWarning\n"
          ],
          "name": "stderr"
        },
        {
          "output_type": "execute_result",
          "data": {
            "text/plain": [
              "<matplotlib.axes._subplots.AxesSubplot at 0x7f1a9d087a50>"
            ]
          },
          "metadata": {
            "tags": []
          },
          "execution_count": 59
        },
        {
          "output_type": "display_data",
          "data": {
            "image/png": "[encoded data removed]",
            "text/plain": [
              "<Figure size 720x360 with 1 Axes>"
            ]
          },
          "metadata": {
            "tags": [],
            "needs_background": "light"
          }
        }
      ]
    },
    {
      "cell_type": "code",
      "metadata": {
        "colab": {
          "base_uri": "https://localhost:8080/",
          "height": 424
        },
        "id": "JHIbGmklD8y3",
        "outputId": "1f6b57e8-8e64-46a0-a4d8-6ce675937be0"
      },
      "source": [
        "plt.figure(figsize = (10,5))\n",
        "plt.subplot(1,2,2)\n",
        "sns.countplot('parenc', hue = 'plan', data = cp)"
      ],
      "execution_count": null,
      "outputs": [
        {
          "output_type": "stream",
          "text": [
            "/usr/local/lib/python3.7/dist-packages/seaborn/_decorators.py:43: FutureWarning: Pass the following variable as a keyword arg: x. From version 0.12, the only valid positional argument will be `data`, and passing other arguments without an explicit keyword will result in an error or misinterpretation.\n",
            "  FutureWarning\n"
          ],
          "name": "stderr"
        },
        {
          "output_type": "execute_result",
          "data": {
            "text/plain": [
              "<matplotlib.axes._subplots.AxesSubplot at 0x7f1aa1fef350>"
            ]
          },
          "metadata": {
            "tags": []
          },
          "execution_count": 60
        },
        {
          "output_type": "display_data",
          "data": {
            "image/png": "[encoded data removed]",
            "text/plain": [
              "<Figure size 720x360 with 1 Axes>"
            ]
          },
          "metadata": {
            "tags": [],
            "needs_background": "light"
          }
        }
      ]
    },
    {
      "cell_type": "code",
      "metadata": {
        "colab": {
          "base_uri": "https://localhost:8080/",
          "height": 515
        },
        "id": "ipIIELRRe846",
        "outputId": "5a19073f-3fa4-4093-ce01-431d3ba58b74"
      },
      "source": [
        "#tengok detail pasal boxplot kat starred webpage\n",
        "ax = sns.boxplot(x=\"iq\", y=\"plan\", data=cp)"
      ],
      "execution_count": null,
      "outputs": [
        {
          "output_type": "display_data",
          "data": {
            "image/png": "[encoded data removed]",
            "text/plain": [
              "<Figure size 720x576 with 1 Axes>"
            ]
          },
          "metadata": {
            "tags": [],
            "needs_background": "light"
          }
        }
      ]
    },
    {
      "cell_type": "code",
      "metadata": {
        "colab": {
          "base_uri": "https://localhost:8080/",
          "height": 515
        },
        "id": "AOjUkaBAg-Bc",
        "outputId": "63b2f7d8-d650-4e09-fe11-b165430679ce"
      },
      "source": [
        "#tengok detail pasal boxplot kat starred webpage\n",
        "ax = sns.boxplot(x=\"parinc\", y=\"plan\", data=cp)"
      ],
      "execution_count": null,
      "outputs": [
        {
          "output_type": "display_data",
          "data": {
            "image/png": "[encoded data removed]",
            "text/plain": [
              "<Figure size 720x576 with 1 Axes>"
            ]
          },
          "metadata": {
            "tags": [],
            "needs_background": "light"
          }
        }
      ]
    },
    {
      "cell_type": "code",
      "metadata": {
        "colab": {
          "base_uri": "https://localhost:8080/"
        },
        "id": "DgozInJSq6h7",
        "outputId": "a53f7410-496c-441d-b76e-53e030b0867d"
      },
      "source": [
        "#convert integer to string : plan (class label)\n",
        "cp['plan'] = cp['plan'].astype(str)\n",
        "cp['plan'].describe()"
      ],
      "execution_count": null,
      "outputs": [
        {
          "output_type": "execute_result",
          "data": {
            "text/plain": [
              "count                       16383\n",
              "unique                          2\n",
              "top       Does not plan to attend\n",
              "freq                        11058\n",
              "Name: plan, dtype: object"
            ]
          },
          "metadata": {
            "tags": []
          },
          "execution_count": 63
        }
      ]
    },
    {
      "cell_type": "code",
      "metadata": {
        "colab": {
          "base_uri": "https://localhost:8080/"
        },
        "id": "LlwoSuAiscwN",
        "outputId": "725038ff-d861-4317-ad61-ae2adbd363fa"
      },
      "source": [
        "cp['plan'].value_counts()"
      ],
      "execution_count": null,
      "outputs": [
        {
          "output_type": "execute_result",
          "data": {
            "text/plain": [
              "Does not plan to attend    11058\n",
              "Plans to attend             5325\n",
              "Name: plan, dtype: int64"
            ]
          },
          "metadata": {
            "tags": []
          },
          "execution_count": 64
        }
      ]
    },
    {
      "cell_type": "markdown",
      "metadata": {
        "id": "El91Nld2s5VB"
      },
      "source": [
        "The class distribution greatly imbalanced with more instances on does not plan to attend (11058) than plan to attend (5325)"
      ]
    },
    {
      "cell_type": "code",
      "metadata": {
        "colab": {
          "base_uri": "https://localhost:8080/"
        },
        "id": "4AVnEuf-s01b",
        "outputId": "2f11c544-02ec-40c4-955b-6679dfb41019"
      },
      "source": [
        "#convert integer to string : parinc\n",
        "cp['parinc'] = cp['parinc'].astype(str)\n",
        "\n",
        "#convert integer to string :iq\n",
        "cp['iq'] = cp['iq'].astype(str)\n",
        "\n",
        "cp.dtypes"
      ],
      "execution_count": null,
      "outputs": [
        {
          "output_type": "execute_result",
          "data": {
            "text/plain": [
              "sex       object\n",
              "parinc    object\n",
              "iq        object\n",
              "parenc    object\n",
              "plan      object\n",
              "dtype: object"
            ]
          },
          "metadata": {
            "tags": []
          },
          "execution_count": 65
        }
      ]
    },
    {
      "cell_type": "markdown",
      "metadata": {
        "id": "Z3fjhXB7uprL"
      },
      "source": [
        "Changing categorical columns in numerical form by using label encoding, so ML algo could read it\n",
        "\n",
        "\n",
        "*   sex\n",
        "*   parenc\n",
        "*   plan\n",
        "\n",
        "\n",
        "\n"
      ]
    },
    {
      "cell_type": "code",
      "metadata": {
        "colab": {
          "base_uri": "https://localhost:8080/",
          "height": 202
        },
        "id": "D_aFOZvQuiLG",
        "outputId": "e8782319-523e-465d-8deb-d4751e1fac11"
      },
      "source": [
        "#import LabelEncoder\n",
        "from sklearn import preprocessing\n",
        "\n",
        "#create LabelEncoder\n",
        "le = preprocessing.LabelEncoder()\n",
        "\n",
        "#convert string categories into numbers for sex, parenc,plan\n",
        "cp['sex'] = le.fit_transform(cp['sex'])\n",
        "cp['parenc'] = le.fit_transform(cp['parenc'])\n",
        "cp['plan'] = le.fit_transform(cp['plan'])\n",
        "\n",
        "cp.head()\n",
        "\n"
      ],
      "execution_count": null,
      "outputs": [
        {
          "output_type": "execute_result",
          "data": {
            "text/html": [
              "<div>\n",
              "<style scoped>\n",
              "    .dataframe tbody tr th:only-of-type {\n",
              "        vertical-align: middle;\n",
              "    }\n",
              "\n",
              "    .dataframe tbody tr th {\n",
              "        vertical-align: top;\n",
              "    }\n",
              "\n",
              "    .dataframe thead th {\n",
              "        text-align: right;\n",
              "    }\n",
              "</style>\n",
              "<table border=\"1\" class=\"dataframe\">\n",
              "  <thead>\n",
              "    <tr style=\"text-align: right;\">\n",
              "      <th></th>\n",
              "      <th>sex</th>\n",
              "      <th>parinc</th>\n",
              "      <th>iq</th>\n",
              "      <th>parenc</th>\n",
              "      <th>plan</th>\n",
              "    </tr>\n",
              "  </thead>\n",
              "  <tbody>\n",
              "    <tr>\n",
              "      <th>0</th>\n",
              "      <td>1</td>\n",
              "      <td>31770</td>\n",
              "      <td>90</td>\n",
              "      <td>0</td>\n",
              "      <td>0</td>\n",
              "    </tr>\n",
              "    <tr>\n",
              "      <th>1</th>\n",
              "      <td>1</td>\n",
              "      <td>79310</td>\n",
              "      <td>110</td>\n",
              "      <td>0</td>\n",
              "      <td>1</td>\n",
              "    </tr>\n",
              "    <tr>\n",
              "      <th>2</th>\n",
              "      <td>0</td>\n",
              "      <td>36600</td>\n",
              "      <td>109</td>\n",
              "      <td>1</td>\n",
              "      <td>0</td>\n",
              "    </tr>\n",
              "    <tr>\n",
              "      <th>3</th>\n",
              "      <td>0</td>\n",
              "      <td>66770</td>\n",
              "      <td>114</td>\n",
              "      <td>0</td>\n",
              "      <td>1</td>\n",
              "    </tr>\n",
              "    <tr>\n",
              "      <th>4</th>\n",
              "      <td>1</td>\n",
              "      <td>59400</td>\n",
              "      <td>103</td>\n",
              "      <td>0</td>\n",
              "      <td>1</td>\n",
              "    </tr>\n",
              "  </tbody>\n",
              "</table>\n",
              "</div>"
            ],
            "text/plain": [
              "   sex parinc   iq  parenc  plan\n",
              "0    1  31770   90       0     0\n",
              "1    1  79310  110       0     1\n",
              "2    0  36600  109       1     0\n",
              "3    0  66770  114       0     1\n",
              "4    1  59400  103       0     1"
            ]
          },
          "metadata": {
            "tags": []
          },
          "execution_count": 66
        }
      ]
    },
    {
      "cell_type": "markdown",
      "metadata": {
        "id": "8or93k2kzcs-"
      },
      "source": [
        "# Train & Validate KNN Classifier"
      ]
    },
    {
      "cell_type": "code",
      "metadata": {
        "id": "np832t_Ry3zh"
      },
      "source": [
        "#indicating target and features\n",
        "target = cp['plan']\n",
        "features = cp.drop('plan', axis = 1)"
      ],
      "execution_count": null,
      "outputs": []
    },
    {
      "cell_type": "markdown",
      "metadata": {
        "id": "McCcnB340qwq"
      },
      "source": [
        "Splittin dataset into training, development & test"
      ]
    },
    {
      "cell_type": "code",
      "metadata": {
        "id": "3dQPnXsS0n-2"
      },
      "source": [
        "#import train_test_split\n",
        "#hold uut method\n",
        "from sklearn.model_selection import train_test_split\n",
        "\n",
        "#split the dataset into training + dev and test\n",
        "x, x_test, y, y_test = train_test_split(features, target, test_size = 0.2, random_state = 0)\n",
        "\n",
        "#split the dataset into training & development set\n",
        "x_train, x_dev, y_train, y_dev = train_test_split(x, y, test_size = 0.2, random_state = 10)"
      ],
      "execution_count": null,
      "outputs": []
    },
    {
      "cell_type": "code",
      "metadata": {
        "colab": {
          "base_uri": "https://localhost:8080/"
        },
        "id": "Z2RUtiff2le0",
        "outputId": "a07614ff-2ef5-4c5d-bc97-8f144e621bbb"
      },
      "source": [
        "#training KNN model\n",
        "\n",
        "#import k nearest neighbor classifier\n",
        "from sklearn.neighbors import KNeighborsClassifier\n",
        "\n",
        "#create classifier with k = 1, 0 = not attend while 1 = attend\n",
        "#‘n_neighbors‘ are the number of neighbors that will vote for the class of the target point; default number is 5.\n",
        "\n",
        "knn = KNeighborsClassifier(n_neighbors = 1)\n",
        "\n",
        "#train model using training set\n",
        "knn.fit(x_train, y_train)"
      ],
      "execution_count": null,
      "outputs": [
        {
          "output_type": "execute_result",
          "data": {
            "text/plain": [
              "KNeighborsClassifier(algorithm='auto', leaf_size=30, metric='minkowski',\n",
              "                     metric_params=None, n_jobs=None, n_neighbors=1, p=2,\n",
              "                     weights='uniform')"
            ]
          },
          "metadata": {
            "tags": []
          },
          "execution_count": 69
        }
      ]
    },
    {
      "cell_type": "code",
      "metadata": {
        "colab": {
          "base_uri": "https://localhost:8080/"
        },
        "id": "KxYE7aqv37WS",
        "outputId": "a050fd96-51a2-46a3-e7e2-f244dd1f3bd3"
      },
      "source": [
        "#predict the target for the development dataset\n",
        "dev_predict = knn.predict(x_dev)\n",
        "\n",
        "dev_predict"
      ],
      "execution_count": null,
      "outputs": [
        {
          "output_type": "execute_result",
          "data": {
            "text/plain": [
              "array([1, 0, 1, ..., 0, 0, 0])"
            ]
          },
          "metadata": {
            "tags": []
          },
          "execution_count": 70
        }
      ]
    },
    {
      "cell_type": "code",
      "metadata": {
        "colab": {
          "base_uri": "https://localhost:8080/"
        },
        "id": "RjFtTy_I4YIM",
        "outputId": "02b7a917-f023-42aa-dd93-7c2b37219179"
      },
      "source": [
        "#evaluate the knn model on development set\n",
        "\n",
        "#import scikit learn metrics module for accuracy calculation\n",
        "from sklearn import metrics\n",
        "\n",
        "#compute the model accuracy on the development set : How often is this classifier correct?\n",
        "print(\"Accuracy : \", metrics.accuracy_score(y_dev, dev_predict))"
      ],
      "execution_count": null,
      "outputs": [
        {
          "output_type": "stream",
          "text": [
            "Accuracy :  0.933257055682685\n"
          ],
          "name": "stdout"
        }
      ]
    },
    {
      "cell_type": "markdown",
      "metadata": {
        "id": "WXVQ924t7Kes"
      },
      "source": [
        "Accuracy of classifier is 93%"
      ]
    },
    {
      "cell_type": "markdown",
      "metadata": {
        "id": "McarWIrU7RnG"
      },
      "source": [
        "# Tune Parameters"
      ]
    },
    {
      "cell_type": "markdown",
      "metadata": {
        "id": "Tpy4vebj7k6r"
      },
      "source": [
        "**using for loop to identify the best value of k**"
      ]
    },
    {
      "cell_type": "code",
      "metadata": {
        "colab": {
          "base_uri": "https://localhost:8080/"
        },
        "id": "pHBbHyRf6wID",
        "outputId": "155b98f0-f30a-4f94-afd6-d97408a85045"
      },
      "source": [
        "# Initialize 2 empty lists (K and validation) to store the values of k and validation score\n",
        "# Initialize 1 empty dictionary (scores) to store the k:validation_score (key:value) pairs\n",
        "K = [] \n",
        "validation = []\n",
        "scores = {}\n",
        "\n",
        "# The for loop will test k values from 1 to 29\n",
        "for k in range(1, 30): \n",
        " clf = KNeighborsClassifier(n_neighbors = k) \n",
        " clf.fit(x_train, y_train) \n",
        " \n",
        " # Can also use the score() function to compute accuracy\n",
        " # Compute accuracy by applying the model on the development set\n",
        " #clf means classification or classifier?????\n",
        " validation_score = clf.score(x_dev, y_dev)\n",
        " \n",
        " # Adds a single item (k value) to the list\n",
        " K.append(k) \n",
        " \n",
        " validation.append(validation_score) \n",
        " \n",
        " # A dictionary holds key:value pairs\n",
        " # Store the validation score for each value of k (k is the key)\n",
        " scores[k] = [validation_score] \n",
        "# Print the key:value pairs in scores\n",
        "for keys, values in scores.items(): \n",
        " print(keys, ':', values)"
      ],
      "execution_count": null,
      "outputs": [
        {
          "output_type": "stream",
          "text": [
            "1 : [0.933257055682685]\n",
            "2 : [0.898932112890923]\n",
            "3 : [0.8653699466056446]\n",
            "4 : [0.8665141113653699]\n",
            "5 : [0.8607932875667429]\n",
            "6 : [0.8440122044241037]\n",
            "7 : [0.8356216628527842]\n",
            "8 : [0.8211289092295957]\n",
            "9 : [0.8142639206712433]\n",
            "10 : [0.8012967200610221]\n",
            "11 : [0.8012967200610221]\n",
            "12 : [0.7902364607170099]\n",
            "13 : [0.7883295194508009]\n",
            "14 : [0.7902364607170099]\n",
            "15 : [0.7879481311975591]\n",
            "16 : [0.7765064836003052]\n",
            "17 : [0.7761250953470633]\n",
            "18 : [0.7738367658276125]\n",
            "19 : [0.7681159420289855]\n",
            "20 : [0.7677345537757437]\n",
            "21 : [0.7677345537757437]\n",
            "22 : [0.7650648360030511]\n",
            "23 : [0.7700228832951945]\n",
            "24 : [0.7669717772692601]\n",
            "25 : [0.7589626239511823]\n",
            "26 : [0.7570556826849733]\n",
            "27 : [0.7543859649122807]\n",
            "28 : [0.7566742944317315]\n",
            "29 : [0.7509534706331045]\n"
          ],
          "name": "stdout"
        }
      ]
    },
    {
      "cell_type": "markdown",
      "metadata": {
        "id": "NsAQY2r81XMA"
      },
      "source": [
        "The best value for k is 1 as it has the highest accuracy. Higher value of K does not lead to better performance"
      ]
    },
    {
      "cell_type": "code",
      "metadata": {
        "colab": {
          "base_uri": "https://localhost:8080/",
          "height": 492
        },
        "id": "_wTc2WXi8hFz",
        "outputId": "63160bd4-4cb0-4fc4-d150-d3213f469eed"
      },
      "source": [
        "# Import matplotlib library\n",
        "import matplotlib.pyplot as plt\n",
        "\n",
        "# Set font and plot size to be larger\n",
        "plt.rcParams.update({'font.size': 20, 'figure.figsize': (10, 8)})\n",
        "plt.scatter(K, validation, color ='g') \n",
        "plt.show() "
      ],
      "execution_count": null,
      "outputs": [
        {
          "output_type": "display_data",
          "data": {
            "image/png": "[encoded data removed]",
            "text/plain": [
              "<Figure size 720x576 with 1 Axes>"
            ]
          },
          "metadata": {
            "tags": [],
            "needs_background": "light"
          }
        }
      ]
    },
    {
      "cell_type": "markdown",
      "metadata": {
        "id": "dkVQCy8Bz74F"
      },
      "source": [
        "Above tuning we used default distance which is p = 2 (euclidean) and we found that the optimum value for k @ n_neighbors = 1, increasing value of k doesnt change the accuracy"
      ]
    },
    {
      "cell_type": "markdown",
      "metadata": {
        "id": "swUPC0utaGcc"
      },
      "source": [
        "## Default"
      ]
    },
    {
      "cell_type": "code",
      "metadata": {
        "colab": {
          "base_uri": "https://localhost:8080/"
        },
        "id": "Ic3vQ4V-89ze",
        "outputId": "dd9cef14-672a-4989-de18-12ed173fae6b"
      },
      "source": [
        "#Default Parameter\n",
        "knn = KNeighborsClassifier()\n",
        "\n",
        "# Train the model using the training set\n",
        "knn.fit(x_train, y_train)\n",
        "\n",
        "# Predict the target for the development set\n",
        "dev_predict = knn.predict(x_dev)\n",
        "\n",
        "# Compute the model accuracy on the development set: How often is the classifier correct?\n",
        "print(\"Accuracy: \", metrics.accuracy_score(y_dev, dev_predict))"
      ],
      "execution_count": null,
      "outputs": [
        {
          "output_type": "stream",
          "text": [
            "Accuracy:  0.8283752860411899\n"
          ],
          "name": "stdout"
        }
      ]
    },
    {
      "cell_type": "markdown",
      "metadata": {
        "id": "8PI93XYDZyOi"
      },
      "source": [
        "## Manhattan (p=1) , weight = distance"
      ]
    },
    {
      "cell_type": "code",
      "metadata": {
        "colab": {
          "base_uri": "https://localhost:8080/"
        },
        "id": "X3_9boOv18La",
        "outputId": "44d3d468-03f4-454f-be46-8484dec596b9"
      },
      "source": [
        "# Create a KNN classifier with k = 28 and manhattan_distance (p = 1)\n",
        "knn = KNeighborsClassifier(n_neighbors = 30, weights = 'distance', algorithm = 'ball_tree', p = 1)\n",
        "\n",
        "# Train the model using the training set\n",
        "knn.fit(x_train, y_train)\n",
        "\n",
        "# Predict the target for the development set\n",
        "dev_predict = knn.predict(x_dev)\n",
        "\n",
        "# Compute the model accuracy on the development set: How often is the classifier correct?\n",
        "print(\"Accuracy: \", metrics.accuracy_score(y_dev, dev_predict))"
      ],
      "execution_count": null,
      "outputs": [
        {
          "output_type": "stream",
          "text": [
            "Accuracy:  0.9252479023646072\n"
          ],
          "name": "stdout"
        }
      ]
    },
    {
      "cell_type": "code",
      "metadata": {
        "colab": {
          "base_uri": "https://localhost:8080/"
        },
        "id": "aM1RbSGJdAS5",
        "outputId": "d13cc814-eb59-4c0b-d6ae-1ce467abd58d"
      },
      "source": [
        "# Create a KNN classifier with k = 28 and manhattan_distance (p = 1)\n",
        "knn = KNeighborsClassifier(n_neighbors = 30, weights = 'distance', algorithm = 'kd_tree', p = 1)\n",
        "\n",
        "# Train the model using the training set\n",
        "knn.fit(x_train, y_train)\n",
        "\n",
        "# Predict the target for the development set\n",
        "dev_predict = knn.predict(x_dev)\n",
        "\n",
        "# Compute the model accuracy on the development set: How often is the classifier correct?\n",
        "print(\"Accuracy: \", metrics.accuracy_score(y_dev, dev_predict))"
      ],
      "execution_count": null,
      "outputs": [
        {
          "output_type": "stream",
          "text": [
            "Accuracy:  0.9252479023646072\n"
          ],
          "name": "stdout"
        }
      ]
    },
    {
      "cell_type": "code",
      "metadata": {
        "colab": {
          "base_uri": "https://localhost:8080/"
        },
        "id": "WY6rKt0UdLEv",
        "outputId": "9c9c58cc-f6db-4e09-84cb-2e65f689f226"
      },
      "source": [
        "# Create a KNN classifier with k = 28 and manhattan_distance (p = 1)\n",
        "knn = KNeighborsClassifier(n_neighbors = 30, weights = 'distance', algorithm = 'brute', p = 1)\n",
        "\n",
        "# Train the model using the training set\n",
        "knn.fit(x_train, y_train)\n",
        "\n",
        "# Predict the target for the development set\n",
        "dev_predict = knn.predict(x_dev)\n",
        "\n",
        "# Compute the model accuracy on the development set: How often is the classifier correct?\n",
        "print(\"Accuracy: \", metrics.accuracy_score(y_dev, dev_predict))"
      ],
      "execution_count": null,
      "outputs": [
        {
          "output_type": "stream",
          "text": [
            "Accuracy:  0.9252479023646072\n"
          ],
          "name": "stdout"
        }
      ]
    },
    {
      "cell_type": "code",
      "metadata": {
        "colab": {
          "base_uri": "https://localhost:8080/"
        },
        "id": "00AqZzMSdWhp",
        "outputId": "5e09f93e-0dae-40a2-c28d-22252f46eaca"
      },
      "source": [
        "# Create a KNN classifier with k = 28 and manhattan_distance (p = 1)\n",
        "knn = KNeighborsClassifier(n_neighbors = 30, weights = 'distance', algorithm = 'auto', p = 1)\n",
        "\n",
        "# Train the model using the training set\n",
        "knn.fit(x_train, y_train)\n",
        "\n",
        "# Predict the target for the development set\n",
        "dev_predict = knn.predict(x_dev)\n",
        "\n",
        "# Compute the model accuracy on the development set: How often is the classifier correct?\n",
        "print(\"Accuracy: \", metrics.accuracy_score(y_dev, dev_predict))"
      ],
      "execution_count": null,
      "outputs": [
        {
          "output_type": "stream",
          "text": [
            "Accuracy:  0.9252479023646072\n"
          ],
          "name": "stdout"
        }
      ]
    },
    {
      "cell_type": "markdown",
      "metadata": {
        "id": "N0GgjRibeUes"
      },
      "source": [
        "## Euclidean = (p=2), weight = uniform"
      ]
    },
    {
      "cell_type": "code",
      "metadata": {
        "colab": {
          "base_uri": "https://localhost:8080/"
        },
        "id": "cd0TRfEPeqmO",
        "outputId": "b78cd221-d9ff-4e7e-f2bd-8ee0a221e75a"
      },
      "source": [
        "# Create a KNN classifier with k = 28 and manhattan_distance (p = 1)\n",
        "knn = KNeighborsClassifier(n_neighbors = 30, weights = 'uniform', algorithm = 'ball_tree', p = 2)\n",
        "\n",
        "# Train the model using the training set\n",
        "knn.fit(x_train, y_train)\n",
        "\n",
        "# Predict the target for the development set\n",
        "dev_predict = knn.predict(x_dev)\n",
        "\n",
        "# Compute the model accuracy on the development set: How often is the classifier correct?\n",
        "print(\"Accuracy: \", metrics.accuracy_score(y_dev, dev_predict))"
      ],
      "execution_count": null,
      "outputs": [
        {
          "output_type": "stream",
          "text": [
            "Accuracy:  0.7540045766590389\n"
          ],
          "name": "stdout"
        }
      ]
    },
    {
      "cell_type": "code",
      "metadata": {
        "colab": {
          "base_uri": "https://localhost:8080/"
        },
        "id": "1-v-xBUnfsDj",
        "outputId": "2d2a943d-7954-49ff-be76-9aefe5c44e42"
      },
      "source": [
        "# Create a KNN classifier with k = 28 and manhattan_distance (p = 1)\n",
        "knn = KNeighborsClassifier(n_neighbors = 30, weights = 'uniform', algorithm = 'kd_tree', p = 2)\n",
        "\n",
        "# Train the model using the training set\n",
        "knn.fit(x_train, y_train)\n",
        "\n",
        "# Predict the target for the development set\n",
        "dev_predict = knn.predict(x_dev)\n",
        "\n",
        "# Compute the model accuracy on the development set: How often is the classifier correct?\n",
        "print(\"Accuracy: \", metrics.accuracy_score(y_dev, dev_predict))"
      ],
      "execution_count": null,
      "outputs": [
        {
          "output_type": "stream",
          "text": [
            "Accuracy:  0.7540045766590389\n"
          ],
          "name": "stdout"
        }
      ]
    },
    {
      "cell_type": "code",
      "metadata": {
        "colab": {
          "base_uri": "https://localhost:8080/"
        },
        "id": "KsLzU_ARf3SM",
        "outputId": "2027fb81-1d7c-4040-cca6-f1e8f1945733"
      },
      "source": [
        "# Create a KNN classifier with k = 28 and manhattan_distance (p = 1)\n",
        "knn = KNeighborsClassifier(n_neighbors = 30, weights = 'uniform', algorithm = 'brute', p = 2)\n",
        "\n",
        "# Train the model using the training set\n",
        "knn.fit(x_train, y_train)\n",
        "\n",
        "# Predict the target for the development set\n",
        "dev_predict = knn.predict(x_dev)\n",
        "\n",
        "# Compute the model accuracy on the development set: How often is the classifier correct?\n",
        "print(\"Accuracy: \", metrics.accuracy_score(y_dev, dev_predict))"
      ],
      "execution_count": null,
      "outputs": [
        {
          "output_type": "stream",
          "text": [
            "Accuracy:  0.7540045766590389\n"
          ],
          "name": "stdout"
        }
      ]
    },
    {
      "cell_type": "code",
      "metadata": {
        "colab": {
          "base_uri": "https://localhost:8080/"
        },
        "id": "HItNNhb2gDk-",
        "outputId": "c5ab5c3c-4fa4-434c-d463-4a3bf90572de"
      },
      "source": [
        "# Create a KNN classifier with k = 28 and manhattan_distance (p = 1)\n",
        "knn = KNeighborsClassifier(n_neighbors = 30, weights = 'uniform', algorithm = 'auto', p = 2)\n",
        "\n",
        "# Train the model using the training set\n",
        "knn.fit(x_train, y_train)\n",
        "\n",
        "# Predict the target for the development set\n",
        "dev_predict = knn.predict(x_dev)\n",
        "\n",
        "# Compute the model accuracy on the development set: How often is the classifier correct?\n",
        "print(\"Accuracy: \", metrics.accuracy_score(y_dev, dev_predict))"
      ],
      "execution_count": null,
      "outputs": [
        {
          "output_type": "stream",
          "text": [
            "Accuracy:  0.7540045766590389\n"
          ],
          "name": "stdout"
        }
      ]
    },
    {
      "cell_type": "markdown",
      "metadata": {
        "id": "2WeApCEw9PJv"
      },
      "source": [
        "Changing from manhattan to minkowski (arbitrary) doesnt have much changes"
      ]
    },
    {
      "cell_type": "markdown",
      "metadata": {
        "id": "rKmyY5RQ-TEm"
      },
      "source": [
        "# Test Model for Generalization Error"
      ]
    },
    {
      "cell_type": "code",
      "metadata": {
        "colab": {
          "base_uri": "https://localhost:8080/"
        },
        "id": "G34ewrlZ9qDH",
        "outputId": "bf11e1bb-8378-493b-9f23-d0b67b8d0268"
      },
      "source": [
        "# Create a KNN classifier with k = 28\n",
        "knn = KNeighborsClassifier(n_neighbors = 50)\n",
        "\n",
        "# Train the model using the training set\n",
        "knn.fit(x_train, y_train)\n",
        "\n",
        "# Predict the target for the development dataset\n",
        "dev_predict = knn.predict(x_dev)\n",
        "\n",
        "# Compute the model accuracy on the development set: How often is the classifier correct?\n",
        "print(\"Accuracy (Dev): \", metrics.accuracy_score(y_dev, dev_predict))\n"
      ],
      "execution_count": null,
      "outputs": [
        {
          "output_type": "stream",
          "text": [
            "Accuracy (Dev):  0.7623951182303585\n"
          ],
          "name": "stdout"
        }
      ]
    },
    {
      "cell_type": "code",
      "metadata": {
        "colab": {
          "base_uri": "https://localhost:8080/"
        },
        "id": "exh5RMkH-6NR",
        "outputId": "4fdbb65b-21d5-426e-bedb-acea4b6cfec3"
      },
      "source": [
        "# Predict the target for the test dataset\n",
        "test_predict = knn.predict(x_test)\n",
        "\n",
        "# Compute the model accuracy on the development set: How often is the classifier correct?\n",
        "print(\"Accuracy (Test): \", metrics.accuracy_score(y_test, test_predict))"
      ],
      "execution_count": null,
      "outputs": [
        {
          "output_type": "stream",
          "text": [
            "Accuracy (Test):  0.7787610619469026\n"
          ],
          "name": "stdout"
        }
      ]
    },
    {
      "cell_type": "markdown",
      "metadata": {
        "id": "3-jixR0AAJ3o"
      },
      "source": [
        "The difference between the validation accuracy and test accuracy is not huge so we can conclude that our KNN\n",
        "classifier does not suffer from overfitting and generalizes well on new data.\n"
      ]
    },
    {
      "cell_type": "markdown",
      "metadata": {
        "id": "DborN0qTAXxl"
      },
      "source": [
        "# Standardize Features"
      ]
    },
    {
      "cell_type": "code",
      "metadata": {
        "colab": {
          "base_uri": "https://localhost:8080/"
        },
        "id": "CHtgqUF0AeCX",
        "outputId": "ed2c97e9-35bd-4ba5-93fc-1d6f993eaf01"
      },
      "source": [
        "features.head()"
      ],
      "execution_count": null,
      "outputs": [
        {
          "output_type": "execute_result",
          "data": {
            "text/html": [
              "<div>\n",
              "<style scoped>\n",
              "    .dataframe tbody tr th:only-of-type {\n",
              "        vertical-align: middle;\n",
              "    }\n",
              "\n",
              "    .dataframe tbody tr th {\n",
              "        vertical-align: top;\n",
              "    }\n",
              "\n",
              "    .dataframe thead th {\n",
              "        text-align: right;\n",
              "    }\n",
              "</style>\n",
              "<table border=\"1\" class=\"dataframe\">\n",
              "  <thead>\n",
              "    <tr style=\"text-align: right;\">\n",
              "      <th></th>\n",
              "      <th>sex</th>\n",
              "      <th>parinc</th>\n",
              "      <th>iq</th>\n",
              "      <th>parenc</th>\n",
              "    </tr>\n",
              "  </thead>\n",
              "  <tbody>\n",
              "    <tr>\n",
              "      <th>0</th>\n",
              "      <td>1</td>\n",
              "      <td>31770</td>\n",
              "      <td>90</td>\n",
              "      <td>0</td>\n",
              "    </tr>\n",
              "    <tr>\n",
              "      <th>1</th>\n",
              "      <td>1</td>\n",
              "      <td>79310</td>\n",
              "      <td>110</td>\n",
              "      <td>0</td>\n",
              "    </tr>\n",
              "    <tr>\n",
              "      <th>2</th>\n",
              "      <td>0</td>\n",
              "      <td>36600</td>\n",
              "      <td>109</td>\n",
              "      <td>1</td>\n",
              "    </tr>\n",
              "    <tr>\n",
              "      <th>3</th>\n",
              "      <td>0</td>\n",
              "      <td>66770</td>\n",
              "      <td>114</td>\n",
              "      <td>0</td>\n",
              "    </tr>\n",
              "    <tr>\n",
              "      <th>4</th>\n",
              "      <td>1</td>\n",
              "      <td>59400</td>\n",
              "      <td>103</td>\n",
              "      <td>0</td>\n",
              "    </tr>\n",
              "  </tbody>\n",
              "</table>\n",
              "</div>"
            ],
            "text/plain": [
              "   sex parinc   iq  parenc\n",
              "0    1  31770   90       0\n",
              "1    1  79310  110       0\n",
              "2    0  36600  109       1\n",
              "3    0  66770  114       0\n",
              "4    1  59400  103       0"
            ]
          },
          "metadata": {
            "tags": []
          },
          "execution_count": 85
        }
      ]
    },
    {
      "cell_type": "code",
      "metadata": {
        "colab": {
          "base_uri": "https://localhost:8080/"
        },
        "id": "uZNuIYX4A0Xg",
        "outputId": "76f65df5-836d-4da4-c071-8ecb3db1cde5"
      },
      "source": [
        "from sklearn import preprocessing\n",
        "names = features.columns\n",
        "\n",
        "# Create the Scaler object\n",
        "scaler = preprocessing.StandardScaler()\n",
        "\n",
        "# Fit the data on the Scaler object\n",
        "scaled_features = scaler.fit_transform(features)\n",
        "\n",
        "# After standardization, scaled_features is transformed into an array so we need to convert\n",
        "scaled_features = pd.DataFrame(scaled_features, columns = names)\n",
        "\n",
        "scaled_features.head()"
      ],
      "execution_count": null,
      "outputs": [
        {
          "output_type": "execute_result",
          "data": {
            "text/html": [
              "<div>\n",
              "<style scoped>\n",
              "    .dataframe tbody tr th:only-of-type {\n",
              "        vertical-align: middle;\n",
              "    }\n",
              "\n",
              "    .dataframe tbody tr th {\n",
              "        vertical-align: top;\n",
              "    }\n",
              "\n",
              "    .dataframe thead th {\n",
              "        text-align: right;\n",
              "    }\n",
              "</style>\n",
              "<table border=\"1\" class=\"dataframe\">\n",
              "  <thead>\n",
              "    <tr style=\"text-align: right;\">\n",
              "      <th></th>\n",
              "      <th>sex</th>\n",
              "      <th>parinc</th>\n",
              "      <th>iq</th>\n",
              "      <th>parenc</th>\n",
              "    </tr>\n",
              "  </thead>\n",
              "  <tbody>\n",
              "    <tr>\n",
              "      <th>0</th>\n",
              "      <td>1.034850</td>\n",
              "      <td>-0.487648</td>\n",
              "      <td>-0.506549</td>\n",
              "      <td>-0.966915</td>\n",
              "    </tr>\n",
              "    <tr>\n",
              "      <th>1</th>\n",
              "      <td>1.034850</td>\n",
              "      <td>2.138339</td>\n",
              "      <td>0.548982</td>\n",
              "      <td>-0.966915</td>\n",
              "    </tr>\n",
              "    <tr>\n",
              "      <th>2</th>\n",
              "      <td>-0.966324</td>\n",
              "      <td>-0.220852</td>\n",
              "      <td>0.496205</td>\n",
              "      <td>1.034218</td>\n",
              "    </tr>\n",
              "    <tr>\n",
              "      <th>3</th>\n",
              "      <td>-0.966324</td>\n",
              "      <td>1.445661</td>\n",
              "      <td>0.760088</td>\n",
              "      <td>-0.966915</td>\n",
              "    </tr>\n",
              "    <tr>\n",
              "      <th>4</th>\n",
              "      <td>1.034850</td>\n",
              "      <td>1.038562</td>\n",
              "      <td>0.179546</td>\n",
              "      <td>-0.966915</td>\n",
              "    </tr>\n",
              "  </tbody>\n",
              "</table>\n",
              "</div>"
            ],
            "text/plain": [
              "        sex    parinc        iq    parenc\n",
              "0  1.034850 -0.487648 -0.506549 -0.966915\n",
              "1  1.034850  2.138339  0.548982 -0.966915\n",
              "2 -0.966324 -0.220852  0.496205  1.034218\n",
              "3 -0.966324  1.445661  0.760088 -0.966915\n",
              "4  1.034850  1.038562  0.179546 -0.966915"
            ]
          },
          "metadata": {
            "tags": []
          },
          "execution_count": 86
        }
      ]
    },
    {
      "cell_type": "markdown",
      "metadata": {
        "id": "I8urOI8GBOPk"
      },
      "source": [
        "Since the values of the features have changed, we can repeat the steps above to split the data, train and\n",
        "evaluate the KNN classifier.\n"
      ]
    },
    {
      "cell_type": "code",
      "metadata": {
        "id": "KOPtwhdBBIAI"
      },
      "source": [
        "# Split data into train, validation and test sets\n",
        "\n",
        "# Import train_test_split function\n",
        "from sklearn.model_selection import train_test_split\n",
        "\n",
        "# Split the dataset into training + development set and test set\n",
        "x, x_test, y, y_test = train_test_split(scaled_features, target, test_size = 0.2, random_state = 0)\n",
        "\n",
        "# Split the dataset into training set and development set\n",
        "x_train, x_dev, y_train, y_dev = train_test_split(x, y, test_size = 0.2, random_state = 10)"
      ],
      "execution_count": null,
      "outputs": []
    },
    {
      "cell_type": "code",
      "metadata": {
        "colab": {
          "base_uri": "https://localhost:8080/"
        },
        "id": "d2OnXpNXBxXg",
        "outputId": "070aeff7-a096-4a4d-8c37-906c803685ef"
      },
      "source": [
        "# Create a KNN classifier with k = 50\n",
        "knn = KNeighborsClassifier(n_neighbors = 30, weights = 'distance', algorithm = 'ball_tree')\n",
        "\n",
        "# Train the model using the training set\n",
        "knn.fit(x_train, y_train)\n",
        "\n",
        "# Predict the target for the development dataset\n",
        "dev_predict = knn.predict(x_dev)\n",
        "\n",
        "# Compute the model accuracy on the development set: How often is the classifier correct?\n",
        "print(\"Accuracy (Dev): \", metrics.accuracy_score(y_dev, dev_predict))\n"
      ],
      "execution_count": null,
      "outputs": [
        {
          "output_type": "stream",
          "text": [
            "Accuracy (Dev):  0.9145690312738368\n"
          ],
          "name": "stdout"
        }
      ]
    },
    {
      "cell_type": "code",
      "metadata": {
        "colab": {
          "base_uri": "https://localhost:8080/"
        },
        "id": "sU8BMNQ1B9sn",
        "outputId": "79e92cc0-141c-4bd6-bfff-e105430a32a1"
      },
      "source": [
        "# Predict the target for the test dataset\n",
        "test_predict = knn.predict(x_test)\n",
        "\n",
        "# Compute the model accuracy on the development set: How often is the classifier correct?\n",
        "print(\"Accuracy (Test): \", metrics.accuracy_score(y_test, test_predict))"
      ],
      "execution_count": null,
      "outputs": [
        {
          "output_type": "stream",
          "text": [
            "Accuracy (Test):  0.9237107110161733\n"
          ],
          "name": "stdout"
        }
      ]
    },
    {
      "cell_type": "markdown",
      "metadata": {
        "id": "gOJCgagMComb"
      },
      "source": [
        "With feature standardization, accuracy on the test set improved to 92%.\n"
      ]
    }
  ]
}